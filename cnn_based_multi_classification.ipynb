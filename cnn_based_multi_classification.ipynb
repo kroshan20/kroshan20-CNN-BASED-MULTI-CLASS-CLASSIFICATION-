{
  "cells": [
    {
      "cell_type": "code",
      "execution_count": 1,
      "metadata": {
        "id": "k7bBrPNDeaQC"
      },
      "outputs": [],
      "source": [
        "import numpy as np\n",
        "import csv,os,sys\n",
        "from glob import glob\n",
        "from sklearn.preprocessing import LabelEncoder\n",
        "from sklearn.preprocessing import OneHotEncoder"
      ]
    },
    {
      "cell_type": "code",
      "source": [
        "data_dir = '/content/drive/MyDrive/Audio/Audio_Classification-MLSP/train/'\n",
        "files = glob(data_dir+'*.npy')\n",
        "#print(files)\n",
        "\n",
        "# print(files)\n",
        "\n",
        "labels = '/content/drive/MyDrive/Audio/Audio_Classification-MLSP/annotations.csv'\n",
        "col_files = []\n",
        "col_labels = []\n",
        "with open(labels,'r') as fin:\n",
        "    reader = csv.reader(fin)\n",
        "    for row in reader:\n",
        "        col_files.append(row[1])\n",
        "        col_labels.append(row[2])\n",
        "       \n",
        "col_files=col_files[1:]\n",
        "col_labels=col_labels[1:]\n",
        "# print(col_files,col_labels)"
      ],
      "metadata": {
        "id": "3DzhXeI7TLx_"
      },
      "execution_count": 2,
      "outputs": []
    },
    {
      "cell_type": "code",
      "execution_count": 3,
      "metadata": {
        "colab": {
          "base_uri": "https://localhost:8080/"
        },
        "id": "gOQu4W8riL84",
        "outputId": "88e60b05-a3c4-4ed4-e944-d5709a7636f9"
      },
      "outputs": [
        {
          "output_type": "stream",
          "name": "stdout",
          "text": [
            "10\n"
          ]
        }
      ],
      "source": [
        "categories = ['Bark','Crying_and_sobbing','Doorbell','Knock','Meow','Microwave_oven','Shatter','Siren','Vehicle_horn_and_car_horn_and_honking','Walk_and_footsteps']\n",
        "print(len(categories))"
      ]
    },
    {
      "cell_type": "code",
      "execution_count": 4,
      "metadata": {
        "colab": {
          "base_uri": "https://localhost:8080/"
        },
        "id": "E4zcY9BGiT7b",
        "outputId": "31521031-29c2-4467-bd5b-ff1fa18499fb"
      },
      "outputs": [
        {
          "output_type": "stream",
          "name": "stdout",
          "text": [
            "[[1. 0. 0. 0. 0. 0. 0. 0. 0. 0.]\n",
            " [0. 1. 0. 0. 0. 0. 0. 0. 0. 0.]\n",
            " [0. 0. 1. 0. 0. 0. 0. 0. 0. 0.]\n",
            " [0. 0. 0. 1. 0. 0. 0. 0. 0. 0.]\n",
            " [0. 0. 0. 0. 1. 0. 0. 0. 0. 0.]\n",
            " [0. 0. 0. 0. 0. 1. 0. 0. 0. 0.]\n",
            " [0. 0. 0. 0. 0. 0. 1. 0. 0. 0.]\n",
            " [0. 0. 0. 0. 0. 0. 0. 1. 0. 0.]\n",
            " [0. 0. 0. 0. 0. 0. 0. 0. 1. 0.]\n",
            " [0. 0. 0. 0. 0. 0. 0. 0. 0. 1.]]\n"
          ]
        }
      ],
      "source": [
        "def label_to_integer(arr):\n",
        "    values = np.asarray(arr)\n",
        "    label_encoder = LabelEncoder()\n",
        "    integer_encoded = label_encoder.fit_transform(values)\n",
        "\n",
        "    onehot_encoder = OneHotEncoder(sparse=False)\n",
        "    integer_encoded = integer_encoded.reshape(len(integer_encoded), 1)\n",
        "    onehot_encoded = onehot_encoder.fit_transform(integer_encoded)\n",
        "    return onehot_encoded\n",
        "\n",
        "categories_int = label_to_integer(categories)\n",
        "print(categories_int)"
      ]
    },
    {
      "cell_type": "code",
      "source": [
        "trainy = []\n",
        "trainx = []\n",
        "def get_one_hot(label_indx):\n",
        "    indx = categories.index(label_indx)\n",
        "    one_hot = categories_int[indx]\n",
        "    return one_hot\n",
        "\n",
        "for i in range(1000): #range(len(files)):\n",
        "#     print(files[i])\n",
        "    x = np.load(files[i])[0]\n",
        "    #print(x.shape)\n",
        "#ZERO_PADDING\n",
        "    if x.shape[1]<=2584:\n",
        "        len_pad = 2584-np.shape(x)[1]\n",
        "        padf = np.zeros(shape=(128,len_pad))\n",
        "        trainx.append(np.concatenate((x,padf),axis=1))\n",
        "        indx = col_files.index(os.path.basename(files[i]))\n",
        "        label_indx = col_labels[indx]\n",
        "#    print(label_indx)\n",
        "        trainy.append(get_one_hot(label_indx))\n",
        "\n",
        "trainx = np.array(trainx)\n",
        "trainy = np.array(trainy)"
      ],
      "metadata": {
        "id": "xE2-zA9NTUAC"
      },
      "execution_count": 5,
      "outputs": []
    },
    {
      "cell_type": "code",
      "source": [
        "count=0\n",
        "for i in range(1000):\n",
        "  x = np.load(files[i])[0]\n",
        "  if x.shape[1]>2432:\n",
        "    count=count+1\n",
        "    print(x.shape)\n",
        "    print(os.path.basename(files[i]))\n",
        "print(count)    \n",
        "\n",
        "#TRIMMING\n",
        "   ''' if x.shape[1]>2584:\n",
        "      y=x[:,:2432] \n",
        "      trainx.append(y)  \n",
        "#     print(x.shape)\n",
        "#     print(os.path.basename(files[i]))'''\n",
        "\n",
        "#INDEXES"
      ],
      "metadata": {
        "colab": {
          "base_uri": "https://localhost:8080/",
          "height": 130
        },
        "id": "AkfB0K2nWlFs",
        "outputId": "3cc1ae7d-cbdb-4ca8-e93b-309f460fa02d"
      },
      "execution_count": 6,
      "outputs": [
        {
          "output_type": "error",
          "ename": "IndentationError",
          "evalue": "ignored",
          "traceback": [
            "\u001b[0;36m  File \u001b[0;32m\"<ipython-input-6-afe8774efcdd>\"\u001b[0;36m, line \u001b[0;32m11\u001b[0m\n\u001b[0;31m    ''' if x.shape[1]>2584:\u001b[0m\n\u001b[0m    ^\u001b[0m\n\u001b[0;31mIndentationError\u001b[0m\u001b[0;31m:\u001b[0m unexpected indent\n"
          ]
        }
      ]
    },
    {
      "cell_type": "code",
      "execution_count": 6,
      "metadata": {
        "colab": {
          "base_uri": "https://localhost:8080/"
        },
        "id": "Z21VMPKbijKe",
        "outputId": "9d9c64be-9334-403c-e934-a752a0cd31ff"
      },
      "outputs": [
        {
          "output_type": "stream",
          "name": "stdout",
          "text": [
            "(1000, 128, 2584) (1000, 10)\n"
          ]
        }
      ],
      "source": [
        "print(np.shape(trainx),np.shape(trainy))"
      ]
    },
    {
      "cell_type": "code",
      "source": [
        "from sklearn.model_selection import train_test_split\n",
        "X_train, X_test, y_train, y_test = train_test_split(trainx, trainy, test_size=0.33, random_state=42)\n",
        "\n",
        "print(X_train.shape)\n",
        "print(y_train.shape)\n",
        "print(X_test.shape)\n",
        "print(y_test.shape)"
      ],
      "metadata": {
        "colab": {
          "base_uri": "https://localhost:8080/"
        },
        "id": "-CMBRNxJvB88",
        "outputId": "7fce8a0d-7643-495e-cb4a-46836726221b"
      },
      "execution_count": 7,
      "outputs": [
        {
          "output_type": "stream",
          "name": "stdout",
          "text": [
            "(670, 128, 2584)\n",
            "(670, 10)\n",
            "(330, 128, 2584)\n",
            "(330, 10)\n"
          ]
        }
      ]
    },
    {
      "cell_type": "code",
      "source": [
        "import tensorflow as tf\n",
        "from tensorflow.keras.models import Sequential\n",
        "from tensorflow.keras.layers import Dense, Conv2D,MaxPooling2D,Flatten,Dropout\n",
        "from tensorflow.keras.optimizers import SGD\n",
        "from tensorflow.keras import layers\n",
        "from tensorflow import keras"
      ],
      "metadata": {
        "id": "tDHcZXXJs5LG"
      },
      "execution_count": 8,
      "outputs": []
    },
    {
      "cell_type": "code",
      "execution_count": 41,
      "metadata": {
        "colab": {
          "base_uri": "https://localhost:8080/",
          "height": 1000
        },
        "id": "7N7rRYktizLR",
        "outputId": "d3dedb20-d796-4c68-ca61-73820b97b49e"
      },
      "outputs": [
        {
          "output_type": "stream",
          "name": "stdout",
          "text": [
            "Model: \"sequential\"\n",
            "_________________________________________________________________\n",
            " Layer (type)                Output Shape              Param #   \n",
            "=================================================================\n",
            " conv2d (Conv2D)             (None, 126, 2430, 32)     320       \n",
            "                                                                 \n",
            " max_pooling2d (MaxPooling2D  (None, 63, 1215, 32)     0         \n",
            " )                                                               \n",
            "                                                                 \n",
            " conv2d_1 (Conv2D)           (None, 61, 1213, 64)      18496     \n",
            "                                                                 \n",
            " max_pooling2d_1 (MaxPooling  (None, 30, 606, 64)      0         \n",
            " 2D)                                                             \n",
            "                                                                 \n",
            " conv2d_2 (Conv2D)           (None, 28, 604, 32)       18464     \n",
            "                                                                 \n",
            " max_pooling2d_2 (MaxPooling  (None, 14, 302, 32)      0         \n",
            " 2D)                                                             \n",
            "                                                                 \n",
            " conv2d_3 (Conv2D)           (None, 12, 300, 64)       18496     \n",
            "                                                                 \n",
            " max_pooling2d_3 (MaxPooling  (None, 6, 150, 64)       0         \n",
            " 2D)                                                             \n",
            "                                                                 \n",
            " conv2d_4 (Conv2D)           (None, 4, 148, 32)        18464     \n",
            "                                                                 \n",
            " max_pooling2d_4 (MaxPooling  (None, 2, 74, 32)        0         \n",
            " 2D)                                                             \n",
            "                                                                 \n",
            " flatten (Flatten)           (None, 4736)              0         \n",
            "                                                                 \n",
            " dense (Dense)               (None, 32)                151584    \n",
            "                                                                 \n",
            " dense_1 (Dense)             (None, 10)                330       \n",
            "                                                                 \n",
            "=================================================================\n",
            "Total params: 226,154\n",
            "Trainable params: 226,154\n",
            "Non-trainable params: 0\n",
            "_________________________________________________________________\n",
            "Epoch 1/100\n",
            "25/25 [==============================] - 363s 14s/step - loss: 2.5728 - accuracy: 0.2050 - val_loss: 2.4835 - val_accuracy: 0.0000e+00\n",
            "Epoch 2/100\n",
            "25/25 [==============================] - 350s 14s/step - loss: 2.1342 - accuracy: 0.2150 - val_loss: 4.0315 - val_accuracy: 0.0000e+00\n",
            "Epoch 3/100\n",
            "25/25 [==============================] - 356s 14s/step - loss: 1.9419 - accuracy: 0.2812 - val_loss: 3.6269 - val_accuracy: 0.0150\n",
            "Epoch 4/100\n",
            "25/25 [==============================] - 351s 14s/step - loss: 1.5807 - accuracy: 0.4625 - val_loss: 5.3926 - val_accuracy: 0.0050\n",
            "Epoch 5/100\n",
            "25/25 [==============================] - 360s 14s/step - loss: 1.4473 - accuracy: 0.4925 - val_loss: 4.9918 - val_accuracy: 0.0200\n",
            "Epoch 6/100\n",
            "25/25 [==============================] - 356s 14s/step - loss: 1.3344 - accuracy: 0.5263 - val_loss: 4.7140 - val_accuracy: 0.0150\n",
            "Epoch 7/100\n",
            "25/25 [==============================] - 350s 14s/step - loss: 1.3703 - accuracy: 0.5425 - val_loss: 5.7475 - val_accuracy: 0.0350\n",
            "Epoch 8/100\n",
            "25/25 [==============================] - 358s 14s/step - loss: 1.1464 - accuracy: 0.6300 - val_loss: 5.1005 - val_accuracy: 0.1200\n",
            "Epoch 9/100\n",
            "25/25 [==============================] - 348s 14s/step - loss: 0.9448 - accuracy: 0.6850 - val_loss: 5.9843 - val_accuracy: 0.1350\n",
            "Epoch 10/100\n",
            "25/25 [==============================] - 355s 14s/step - loss: 0.7985 - accuracy: 0.7425 - val_loss: 7.3356 - val_accuracy: 0.1400\n",
            "Epoch 11/100\n",
            "25/25 [==============================] - 350s 14s/step - loss: 0.8241 - accuracy: 0.7188 - val_loss: 7.5658 - val_accuracy: 0.1600\n",
            "Epoch 12/100\n",
            "25/25 [==============================] - 361s 14s/step - loss: 0.6252 - accuracy: 0.7900 - val_loss: 8.0729 - val_accuracy: 0.1550\n",
            "Epoch 13/100\n",
            "25/25 [==============================] - 358s 14s/step - loss: 0.5836 - accuracy: 0.8000 - val_loss: 11.3419 - val_accuracy: 0.1650\n",
            "Epoch 14/100\n",
            " 2/25 [=>............................] - ETA: 5:02 - loss: 0.4698 - accuracy: 0.8438"
          ]
        },
        {
          "output_type": "error",
          "ename": "KeyboardInterrupt",
          "evalue": "ignored",
          "traceback": [
            "\u001b[0;31m---------------------------------------------------------------------------\u001b[0m",
            "\u001b[0;31mKeyboardInterrupt\u001b[0m                         Traceback (most recent call last)",
            "\u001b[0;32m<ipython-input-41-e299e1087d91>\u001b[0m in \u001b[0;36m<module>\u001b[0;34m\u001b[0m\n\u001b[1;32m     28\u001b[0m \u001b[0mmodel\u001b[0m \u001b[0;34m=\u001b[0m \u001b[0mdefine_model\u001b[0m\u001b[0;34m(\u001b[0m\u001b[0;34m)\u001b[0m\u001b[0;34m\u001b[0m\u001b[0;34m\u001b[0m\u001b[0m\n\u001b[1;32m     29\u001b[0m \u001b[0mmodel\u001b[0m\u001b[0;34m.\u001b[0m\u001b[0msummary\u001b[0m\u001b[0;34m(\u001b[0m\u001b[0;34m)\u001b[0m\u001b[0;34m\u001b[0m\u001b[0;34m\u001b[0m\u001b[0m\n\u001b[0;32m---> 30\u001b[0;31m \u001b[0mmodel\u001b[0m\u001b[0;34m.\u001b[0m\u001b[0mfit\u001b[0m\u001b[0;34m(\u001b[0m\u001b[0mtrainx\u001b[0m\u001b[0;34m,\u001b[0m\u001b[0mtrainy\u001b[0m\u001b[0;34m,\u001b[0m\u001b[0mvalidation_split\u001b[0m\u001b[0;34m=\u001b[0m\u001b[0;36m0.2\u001b[0m\u001b[0;34m,\u001b[0m\u001b[0mbatch_size\u001b[0m\u001b[0;34m=\u001b[0m\u001b[0;36m32\u001b[0m\u001b[0;34m,\u001b[0m\u001b[0mverbose\u001b[0m\u001b[0;34m=\u001b[0m\u001b[0;36m1\u001b[0m\u001b[0;34m,\u001b[0m\u001b[0mepochs\u001b[0m\u001b[0;34m=\u001b[0m\u001b[0;36m100\u001b[0m\u001b[0;34m)\u001b[0m\u001b[0;34m\u001b[0m\u001b[0;34m\u001b[0m\u001b[0m\n\u001b[0m",
            "\u001b[0;32m/usr/local/lib/python3.7/dist-packages/keras/utils/traceback_utils.py\u001b[0m in \u001b[0;36merror_handler\u001b[0;34m(*args, **kwargs)\u001b[0m\n\u001b[1;32m     62\u001b[0m     \u001b[0mfiltered_tb\u001b[0m \u001b[0;34m=\u001b[0m \u001b[0;32mNone\u001b[0m\u001b[0;34m\u001b[0m\u001b[0;34m\u001b[0m\u001b[0m\n\u001b[1;32m     63\u001b[0m     \u001b[0;32mtry\u001b[0m\u001b[0;34m:\u001b[0m\u001b[0;34m\u001b[0m\u001b[0;34m\u001b[0m\u001b[0m\n\u001b[0;32m---> 64\u001b[0;31m       \u001b[0;32mreturn\u001b[0m \u001b[0mfn\u001b[0m\u001b[0;34m(\u001b[0m\u001b[0;34m*\u001b[0m\u001b[0margs\u001b[0m\u001b[0;34m,\u001b[0m \u001b[0;34m**\u001b[0m\u001b[0mkwargs\u001b[0m\u001b[0;34m)\u001b[0m\u001b[0;34m\u001b[0m\u001b[0;34m\u001b[0m\u001b[0m\n\u001b[0m\u001b[1;32m     65\u001b[0m     \u001b[0;32mexcept\u001b[0m \u001b[0mException\u001b[0m \u001b[0;32mas\u001b[0m \u001b[0me\u001b[0m\u001b[0;34m:\u001b[0m  \u001b[0;31m# pylint: disable=broad-except\u001b[0m\u001b[0;34m\u001b[0m\u001b[0;34m\u001b[0m\u001b[0m\n\u001b[1;32m     66\u001b[0m       \u001b[0mfiltered_tb\u001b[0m \u001b[0;34m=\u001b[0m \u001b[0m_process_traceback_frames\u001b[0m\u001b[0;34m(\u001b[0m\u001b[0me\u001b[0m\u001b[0;34m.\u001b[0m\u001b[0m__traceback__\u001b[0m\u001b[0;34m)\u001b[0m\u001b[0;34m\u001b[0m\u001b[0;34m\u001b[0m\u001b[0m\n",
            "\u001b[0;32m/usr/local/lib/python3.7/dist-packages/keras/engine/training.py\u001b[0m in \u001b[0;36mfit\u001b[0;34m(self, x, y, batch_size, epochs, verbose, callbacks, validation_split, validation_data, shuffle, class_weight, sample_weight, initial_epoch, steps_per_epoch, validation_steps, validation_batch_size, validation_freq, max_queue_size, workers, use_multiprocessing)\u001b[0m\n\u001b[1;32m   1382\u001b[0m                 _r=1):\n\u001b[1;32m   1383\u001b[0m               \u001b[0mcallbacks\u001b[0m\u001b[0;34m.\u001b[0m\u001b[0mon_train_batch_begin\u001b[0m\u001b[0;34m(\u001b[0m\u001b[0mstep\u001b[0m\u001b[0;34m)\u001b[0m\u001b[0;34m\u001b[0m\u001b[0;34m\u001b[0m\u001b[0m\n\u001b[0;32m-> 1384\u001b[0;31m               \u001b[0mtmp_logs\u001b[0m \u001b[0;34m=\u001b[0m \u001b[0mself\u001b[0m\u001b[0;34m.\u001b[0m\u001b[0mtrain_function\u001b[0m\u001b[0;34m(\u001b[0m\u001b[0miterator\u001b[0m\u001b[0;34m)\u001b[0m\u001b[0;34m\u001b[0m\u001b[0;34m\u001b[0m\u001b[0m\n\u001b[0m\u001b[1;32m   1385\u001b[0m               \u001b[0;32mif\u001b[0m \u001b[0mdata_handler\u001b[0m\u001b[0;34m.\u001b[0m\u001b[0mshould_sync\u001b[0m\u001b[0;34m:\u001b[0m\u001b[0;34m\u001b[0m\u001b[0;34m\u001b[0m\u001b[0m\n\u001b[1;32m   1386\u001b[0m                 \u001b[0mcontext\u001b[0m\u001b[0;34m.\u001b[0m\u001b[0masync_wait\u001b[0m\u001b[0;34m(\u001b[0m\u001b[0;34m)\u001b[0m\u001b[0;34m\u001b[0m\u001b[0;34m\u001b[0m\u001b[0m\n",
            "\u001b[0;32m/usr/local/lib/python3.7/dist-packages/tensorflow/python/util/traceback_utils.py\u001b[0m in \u001b[0;36merror_handler\u001b[0;34m(*args, **kwargs)\u001b[0m\n\u001b[1;32m    148\u001b[0m     \u001b[0mfiltered_tb\u001b[0m \u001b[0;34m=\u001b[0m \u001b[0;32mNone\u001b[0m\u001b[0;34m\u001b[0m\u001b[0;34m\u001b[0m\u001b[0m\n\u001b[1;32m    149\u001b[0m     \u001b[0;32mtry\u001b[0m\u001b[0;34m:\u001b[0m\u001b[0;34m\u001b[0m\u001b[0;34m\u001b[0m\u001b[0m\n\u001b[0;32m--> 150\u001b[0;31m       \u001b[0;32mreturn\u001b[0m \u001b[0mfn\u001b[0m\u001b[0;34m(\u001b[0m\u001b[0;34m*\u001b[0m\u001b[0margs\u001b[0m\u001b[0;34m,\u001b[0m \u001b[0;34m**\u001b[0m\u001b[0mkwargs\u001b[0m\u001b[0;34m)\u001b[0m\u001b[0;34m\u001b[0m\u001b[0;34m\u001b[0m\u001b[0m\n\u001b[0m\u001b[1;32m    151\u001b[0m     \u001b[0;32mexcept\u001b[0m \u001b[0mException\u001b[0m \u001b[0;32mas\u001b[0m \u001b[0me\u001b[0m\u001b[0;34m:\u001b[0m\u001b[0;34m\u001b[0m\u001b[0;34m\u001b[0m\u001b[0m\n\u001b[1;32m    152\u001b[0m       \u001b[0mfiltered_tb\u001b[0m \u001b[0;34m=\u001b[0m \u001b[0m_process_traceback_frames\u001b[0m\u001b[0;34m(\u001b[0m\u001b[0me\u001b[0m\u001b[0;34m.\u001b[0m\u001b[0m__traceback__\u001b[0m\u001b[0;34m)\u001b[0m\u001b[0;34m\u001b[0m\u001b[0;34m\u001b[0m\u001b[0m\n",
            "\u001b[0;32m/usr/local/lib/python3.7/dist-packages/tensorflow/python/eager/def_function.py\u001b[0m in \u001b[0;36m__call__\u001b[0;34m(self, *args, **kwds)\u001b[0m\n\u001b[1;32m    913\u001b[0m \u001b[0;34m\u001b[0m\u001b[0m\n\u001b[1;32m    914\u001b[0m       \u001b[0;32mwith\u001b[0m \u001b[0mOptionalXlaContext\u001b[0m\u001b[0;34m(\u001b[0m\u001b[0mself\u001b[0m\u001b[0;34m.\u001b[0m\u001b[0m_jit_compile\u001b[0m\u001b[0;34m)\u001b[0m\u001b[0;34m:\u001b[0m\u001b[0;34m\u001b[0m\u001b[0;34m\u001b[0m\u001b[0m\n\u001b[0;32m--> 915\u001b[0;31m         \u001b[0mresult\u001b[0m \u001b[0;34m=\u001b[0m \u001b[0mself\u001b[0m\u001b[0;34m.\u001b[0m\u001b[0m_call\u001b[0m\u001b[0;34m(\u001b[0m\u001b[0;34m*\u001b[0m\u001b[0margs\u001b[0m\u001b[0;34m,\u001b[0m \u001b[0;34m**\u001b[0m\u001b[0mkwds\u001b[0m\u001b[0;34m)\u001b[0m\u001b[0;34m\u001b[0m\u001b[0;34m\u001b[0m\u001b[0m\n\u001b[0m\u001b[1;32m    916\u001b[0m \u001b[0;34m\u001b[0m\u001b[0m\n\u001b[1;32m    917\u001b[0m       \u001b[0mnew_tracing_count\u001b[0m \u001b[0;34m=\u001b[0m \u001b[0mself\u001b[0m\u001b[0;34m.\u001b[0m\u001b[0mexperimental_get_tracing_count\u001b[0m\u001b[0;34m(\u001b[0m\u001b[0;34m)\u001b[0m\u001b[0;34m\u001b[0m\u001b[0;34m\u001b[0m\u001b[0m\n",
            "\u001b[0;32m/usr/local/lib/python3.7/dist-packages/tensorflow/python/eager/def_function.py\u001b[0m in \u001b[0;36m_call\u001b[0;34m(self, *args, **kwds)\u001b[0m\n\u001b[1;32m    945\u001b[0m       \u001b[0;31m# In this case we have created variables on the first call, so we run the\u001b[0m\u001b[0;34m\u001b[0m\u001b[0;34m\u001b[0m\u001b[0;34m\u001b[0m\u001b[0m\n\u001b[1;32m    946\u001b[0m       \u001b[0;31m# defunned version which is guaranteed to never create variables.\u001b[0m\u001b[0;34m\u001b[0m\u001b[0;34m\u001b[0m\u001b[0;34m\u001b[0m\u001b[0m\n\u001b[0;32m--> 947\u001b[0;31m       \u001b[0;32mreturn\u001b[0m \u001b[0mself\u001b[0m\u001b[0;34m.\u001b[0m\u001b[0m_stateless_fn\u001b[0m\u001b[0;34m(\u001b[0m\u001b[0;34m*\u001b[0m\u001b[0margs\u001b[0m\u001b[0;34m,\u001b[0m \u001b[0;34m**\u001b[0m\u001b[0mkwds\u001b[0m\u001b[0;34m)\u001b[0m  \u001b[0;31m# pylint: disable=not-callable\u001b[0m\u001b[0;34m\u001b[0m\u001b[0;34m\u001b[0m\u001b[0m\n\u001b[0m\u001b[1;32m    948\u001b[0m     \u001b[0;32melif\u001b[0m \u001b[0mself\u001b[0m\u001b[0;34m.\u001b[0m\u001b[0m_stateful_fn\u001b[0m \u001b[0;32mis\u001b[0m \u001b[0;32mnot\u001b[0m \u001b[0;32mNone\u001b[0m\u001b[0;34m:\u001b[0m\u001b[0;34m\u001b[0m\u001b[0;34m\u001b[0m\u001b[0m\n\u001b[1;32m    949\u001b[0m       \u001b[0;31m# Release the lock early so that multiple threads can perform the call\u001b[0m\u001b[0;34m\u001b[0m\u001b[0;34m\u001b[0m\u001b[0;34m\u001b[0m\u001b[0m\n",
            "\u001b[0;32m/usr/local/lib/python3.7/dist-packages/tensorflow/python/eager/function.py\u001b[0m in \u001b[0;36m__call__\u001b[0;34m(self, *args, **kwargs)\u001b[0m\n\u001b[1;32m   2955\u001b[0m        filtered_flat_args) = self._maybe_define_function(args, kwargs)\n\u001b[1;32m   2956\u001b[0m     return graph_function._call_flat(\n\u001b[0;32m-> 2957\u001b[0;31m         filtered_flat_args, captured_inputs=graph_function.captured_inputs)  # pylint: disable=protected-access\n\u001b[0m\u001b[1;32m   2958\u001b[0m \u001b[0;34m\u001b[0m\u001b[0m\n\u001b[1;32m   2959\u001b[0m   \u001b[0;34m@\u001b[0m\u001b[0mproperty\u001b[0m\u001b[0;34m\u001b[0m\u001b[0;34m\u001b[0m\u001b[0m\n",
            "\u001b[0;32m/usr/local/lib/python3.7/dist-packages/tensorflow/python/eager/function.py\u001b[0m in \u001b[0;36m_call_flat\u001b[0;34m(self, args, captured_inputs, cancellation_manager)\u001b[0m\n\u001b[1;32m   1852\u001b[0m       \u001b[0;31m# No tape is watching; skip to running the function.\u001b[0m\u001b[0;34m\u001b[0m\u001b[0;34m\u001b[0m\u001b[0;34m\u001b[0m\u001b[0m\n\u001b[1;32m   1853\u001b[0m       return self._build_call_outputs(self._inference_function.call(\n\u001b[0;32m-> 1854\u001b[0;31m           ctx, args, cancellation_manager=cancellation_manager))\n\u001b[0m\u001b[1;32m   1855\u001b[0m     forward_backward = self._select_forward_and_backward_functions(\n\u001b[1;32m   1856\u001b[0m         \u001b[0margs\u001b[0m\u001b[0;34m,\u001b[0m\u001b[0;34m\u001b[0m\u001b[0;34m\u001b[0m\u001b[0m\n",
            "\u001b[0;32m/usr/local/lib/python3.7/dist-packages/tensorflow/python/eager/function.py\u001b[0m in \u001b[0;36mcall\u001b[0;34m(self, ctx, args, cancellation_manager)\u001b[0m\n\u001b[1;32m    502\u001b[0m               \u001b[0minputs\u001b[0m\u001b[0;34m=\u001b[0m\u001b[0margs\u001b[0m\u001b[0;34m,\u001b[0m\u001b[0;34m\u001b[0m\u001b[0;34m\u001b[0m\u001b[0m\n\u001b[1;32m    503\u001b[0m               \u001b[0mattrs\u001b[0m\u001b[0;34m=\u001b[0m\u001b[0mattrs\u001b[0m\u001b[0;34m,\u001b[0m\u001b[0;34m\u001b[0m\u001b[0;34m\u001b[0m\u001b[0m\n\u001b[0;32m--> 504\u001b[0;31m               ctx=ctx)\n\u001b[0m\u001b[1;32m    505\u001b[0m         \u001b[0;32melse\u001b[0m\u001b[0;34m:\u001b[0m\u001b[0;34m\u001b[0m\u001b[0;34m\u001b[0m\u001b[0m\n\u001b[1;32m    506\u001b[0m           outputs = execute.execute_with_cancellation(\n",
            "\u001b[0;32m/usr/local/lib/python3.7/dist-packages/tensorflow/python/eager/execute.py\u001b[0m in \u001b[0;36mquick_execute\u001b[0;34m(op_name, num_outputs, inputs, attrs, ctx, name)\u001b[0m\n\u001b[1;32m     53\u001b[0m     \u001b[0mctx\u001b[0m\u001b[0;34m.\u001b[0m\u001b[0mensure_initialized\u001b[0m\u001b[0;34m(\u001b[0m\u001b[0;34m)\u001b[0m\u001b[0;34m\u001b[0m\u001b[0;34m\u001b[0m\u001b[0m\n\u001b[1;32m     54\u001b[0m     tensors = pywrap_tfe.TFE_Py_Execute(ctx._handle, device_name, op_name,\n\u001b[0;32m---> 55\u001b[0;31m                                         inputs, attrs, num_outputs)\n\u001b[0m\u001b[1;32m     56\u001b[0m   \u001b[0;32mexcept\u001b[0m \u001b[0mcore\u001b[0m\u001b[0;34m.\u001b[0m\u001b[0m_NotOkStatusException\u001b[0m \u001b[0;32mas\u001b[0m \u001b[0me\u001b[0m\u001b[0;34m:\u001b[0m\u001b[0;34m\u001b[0m\u001b[0;34m\u001b[0m\u001b[0m\n\u001b[1;32m     57\u001b[0m     \u001b[0;32mif\u001b[0m \u001b[0mname\u001b[0m \u001b[0;32mis\u001b[0m \u001b[0;32mnot\u001b[0m \u001b[0;32mNone\u001b[0m\u001b[0;34m:\u001b[0m\u001b[0;34m\u001b[0m\u001b[0;34m\u001b[0m\u001b[0m\n",
            "\u001b[0;31mKeyboardInterrupt\u001b[0m: "
          ]
        }
      ],
      "source": [
        "import tensorflow as tf\n",
        "from tensorflow.keras.models import Sequential\n",
        "from tensorflow.keras.layers import Dense, Conv2D,MaxPooling2D,Flatten,Dropout\n",
        "from tensorflow.keras.optimizers import SGD\n",
        "from tensorflow.keras import layers\n",
        "from tensorflow import keras\n",
        "\n",
        "def define_model():\n",
        "    model = Sequential()\n",
        "    model.add(Conv2D(32, (3, 3), activation='relu', kernel_initializer='he_uniform', input_shape=(128,2584,1)))\n",
        "    model.add(MaxPooling2D((2, 2)))\n",
        "    model.add(Conv2D(64, (3, 3), activation='relu', kernel_initializer='he_uniform'))\n",
        "    model.add(MaxPooling2D((2, 2)))\n",
        "    model.add(Conv2D(32, (3, 3), activation='relu', kernel_initializer='he_uniform'))\n",
        "    model.add(MaxPooling2D((2, 2)))\n",
        "    model.add(Conv2D(64, (3, 3), activation='relu', kernel_initializer='he_uniform'))\n",
        "    model.add(MaxPooling2D((2, 2)))\n",
        "    model.add(Conv2D(32, (3, 3), activation='relu', kernel_initializer='he_uniform'))\n",
        "    model.add(MaxPooling2D((2, 2)))\n",
        "    model.add(Flatten())\n",
        "    model.add(Dense(32, activation='relu', kernel_initializer='he_uniform'))\n",
        "    model.add(Dense(10, activation='softmax'))\n",
        "    #compile model\n",
        "    opt = SGD(learning_rate=0.01, momentum=0.9)\n",
        "    model.compile(optimizer=opt, loss='categorical_crossentropy', metrics=['accuracy'])\n",
        "    return model\n",
        "\n",
        "model = define_model()\n",
        "model.summary()\n",
        "model.fit(trainx,trainy,validation_split=0.2,batch_size=32,verbose=1,epochs=100)"
      ]
    },
    {
      "cell_type": "code",
      "execution_count": null,
      "metadata": {
        "id": "sqVeE_3_mJle"
      },
      "outputs": [],
      "source": [
        "import tensorflow as tf\n",
        "from tensorflow.keras.models import Sequential as sq\n",
        "from tensorflow.keras.layers import Dense as ds, SimpleRNN as rn\n",
        "from tensorflow.keras import layers\n",
        "from tensorflow import keras\n",
        "from tensorflow import keras\n",
        "opt = keras.optimizers.Adam(learning_rate=0.0001)\n",
        "\n",
        "\n",
        "\n",
        "model = tf.keras.models.Sequential([\n",
        "  tf.keras.layers.Flatten(input_shape=(128, 500)),\n",
        "  #tf.keras.layers.Dense(64, activation='relu'),\n",
        "  tf.keras.layers.Dense(32, activation='relu'),\n",
        "  tf.keras.layers.Dense(16, activation='relu'),  \n",
        "  tf.keras.layers.Dense(10, activation='softmax')\n",
        "])\n",
        "\n",
        "model.summary()\n",
        "\n",
        "model.compile(loss='categorical_crossentropy',optimizer=opt,metrics=['accuracy'])\n",
        "# model.compile(\n",
        "#     optimizer=tf.keras.optimizers.Adam(0.001),\n",
        "#     loss=tf.keras.losses.CategoricalCrossentropy(from_logits=True),\n",
        "#     metrics=[tf.keras.metrics.CategoricalAccuracy()],\n",
        "# )\n",
        "\n",
        "model.fit(trainx,trainy,validation_split=0.2,batch_size=32,verbose=1,epochs=10)\n",
        "\n",
        "\n",
        "# model=sq()\n",
        "\n",
        "# model.add(ds(128*2584,input_dim =X_train.shape[0],activation='relu'))\n",
        "\n",
        "# model.add(ds(209,activation='relu'))\n",
        "\n",
        "# kernel_regularizer=keras.regularizers.l2(0.001)\n",
        "\n",
        "# model.add(ds(102,activation='relu'))\n",
        "\n",
        "# #kernel_regularizer=keras.regularizers.l2(0.001)\n",
        "\n",
        "# model.add(ds(50,activation='relu'))\n",
        "\n",
        "# tf.keras.layers.Dropout(0.2)\n",
        "\n",
        "# kernel_regularizer=keras.regularizers.l2(0.001)\n",
        "\n",
        "# model.add(ds(10,activation='softmax'))\n",
        "\n",
        "# model.compile(loss='categorical_crossentropy',optimizer=opt,metrics=['accuracy'])"
      ]
    },
    {
      "cell_type": "code",
      "source": [
        "def get_conv_model():\n",
        "  model = Sequential()\n",
        "  model.add(Conv2D(64, (3,3), activation='relu', strides=(1,1),padding='same', input_shape=(128, 2584, 1)))\n",
        "  model.add(MaxPooling2D((2,2)))\n",
        "  model.add(Dropout(0.15))\n",
        "  model.add(Conv2D(32, (3,3), activation='relu', strides=(1,1),padding='same'))\n",
        "  model.add(MaxPooling2D((2,2)))\n",
        "  model.add(Dropout(0.5))\n",
        "  model.add(Conv2D(32, (3,3), activation='relu', strides=(1,1),padding='same'))\n",
        "  model.add(MaxPooling2D((2,2)))\n",
        "  model.add(Dropout(0.25))\n",
        "  model.add(Conv2D(32, (3,3), activation='relu', strides=(1,1),padding='same'))\n",
        "  model.add(MaxPooling2D((2,2)))\n",
        "  model.add(Dropout(0.35))\n",
        "  model.add(Conv2D(32, (3,3), activation='relu', strides=(1,1),padding='same'))\n",
        "  model.add(MaxPooling2D((2,2)))\n",
        "  model.add(Conv2D(64, (3,3), activation='relu', strides=(1,1),padding='same'))\n",
        "  model.add(MaxPooling2D((4,4)))\n",
        "  model.add(Dropout(0.5))\n",
        "  model.add(Conv2D(64, (3,3), activation='relu', strides=(1,1),padding='same'))\n",
        "  model.add(MaxPooling2D((1,1)))\n",
        "  model.add(Dropout(0.45))\n",
        "  model.add(Flatten())\n",
        "  model.add(Dense(32, activation='relu'))\n",
        "  model.add(Dense(16, activation='relu'))\n",
        "  model.add(Dense(10, activation='softmax'))\n",
        "  model.summary()\n",
        "  model.compile(loss='categorical_crossentropy', optimizer='adam', metrics=['accuracy'])\n",
        "  return model"
      ],
      "metadata": {
        "id": "MgjQZankTrvi"
      },
      "execution_count": 9,
      "outputs": []
    },
    {
      "cell_type": "code",
      "source": [
        "model=get_conv_model()\n",
        "model.summary()"
      ],
      "metadata": {
        "colab": {
          "base_uri": "https://localhost:8080/"
        },
        "id": "Y7yKJzqavnfJ",
        "outputId": "8a7fe6cb-4999-4db0-e943-386e4d5f19ff"
      },
      "execution_count": 10,
      "outputs": [
        {
          "output_type": "stream",
          "name": "stdout",
          "text": [
            "Model: \"sequential\"\n",
            "_________________________________________________________________\n",
            " Layer (type)                Output Shape              Param #   \n",
            "=================================================================\n",
            " conv2d (Conv2D)             (None, 128, 2584, 64)     640       \n",
            "                                                                 \n",
            " max_pooling2d (MaxPooling2D  (None, 64, 1292, 64)     0         \n",
            " )                                                               \n",
            "                                                                 \n",
            " dropout (Dropout)           (None, 64, 1292, 64)      0         \n",
            "                                                                 \n",
            " conv2d_1 (Conv2D)           (None, 64, 1292, 32)      18464     \n",
            "                                                                 \n",
            " max_pooling2d_1 (MaxPooling  (None, 32, 646, 32)      0         \n",
            " 2D)                                                             \n",
            "                                                                 \n",
            " dropout_1 (Dropout)         (None, 32, 646, 32)       0         \n",
            "                                                                 \n",
            " conv2d_2 (Conv2D)           (None, 32, 646, 32)       9248      \n",
            "                                                                 \n",
            " max_pooling2d_2 (MaxPooling  (None, 16, 323, 32)      0         \n",
            " 2D)                                                             \n",
            "                                                                 \n",
            " dropout_2 (Dropout)         (None, 16, 323, 32)       0         \n",
            "                                                                 \n",
            " conv2d_3 (Conv2D)           (None, 16, 323, 32)       9248      \n",
            "                                                                 \n",
            " max_pooling2d_3 (MaxPooling  (None, 8, 161, 32)       0         \n",
            " 2D)                                                             \n",
            "                                                                 \n",
            " dropout_3 (Dropout)         (None, 8, 161, 32)        0         \n",
            "                                                                 \n",
            " conv2d_4 (Conv2D)           (None, 8, 161, 32)        9248      \n",
            "                                                                 \n",
            " max_pooling2d_4 (MaxPooling  (None, 4, 80, 32)        0         \n",
            " 2D)                                                             \n",
            "                                                                 \n",
            " conv2d_5 (Conv2D)           (None, 4, 80, 64)         18496     \n",
            "                                                                 \n",
            " max_pooling2d_5 (MaxPooling  (None, 1, 20, 64)        0         \n",
            " 2D)                                                             \n",
            "                                                                 \n",
            " dropout_4 (Dropout)         (None, 1, 20, 64)         0         \n",
            "                                                                 \n",
            " conv2d_6 (Conv2D)           (None, 1, 20, 64)         36928     \n",
            "                                                                 \n",
            " max_pooling2d_6 (MaxPooling  (None, 1, 20, 64)        0         \n",
            " 2D)                                                             \n",
            "                                                                 \n",
            " dropout_5 (Dropout)         (None, 1, 20, 64)         0         \n",
            "                                                                 \n",
            " flatten (Flatten)           (None, 1280)              0         \n",
            "                                                                 \n",
            " dense (Dense)               (None, 32)                40992     \n",
            "                                                                 \n",
            " dense_1 (Dense)             (None, 16)                528       \n",
            "                                                                 \n",
            " dense_2 (Dense)             (None, 10)                170       \n",
            "                                                                 \n",
            "=================================================================\n",
            "Total params: 143,962\n",
            "Trainable params: 143,962\n",
            "Non-trainable params: 0\n",
            "_________________________________________________________________\n",
            "Model: \"sequential\"\n",
            "_________________________________________________________________\n",
            " Layer (type)                Output Shape              Param #   \n",
            "=================================================================\n",
            " conv2d (Conv2D)             (None, 128, 2584, 64)     640       \n",
            "                                                                 \n",
            " max_pooling2d (MaxPooling2D  (None, 64, 1292, 64)     0         \n",
            " )                                                               \n",
            "                                                                 \n",
            " dropout (Dropout)           (None, 64, 1292, 64)      0         \n",
            "                                                                 \n",
            " conv2d_1 (Conv2D)           (None, 64, 1292, 32)      18464     \n",
            "                                                                 \n",
            " max_pooling2d_1 (MaxPooling  (None, 32, 646, 32)      0         \n",
            " 2D)                                                             \n",
            "                                                                 \n",
            " dropout_1 (Dropout)         (None, 32, 646, 32)       0         \n",
            "                                                                 \n",
            " conv2d_2 (Conv2D)           (None, 32, 646, 32)       9248      \n",
            "                                                                 \n",
            " max_pooling2d_2 (MaxPooling  (None, 16, 323, 32)      0         \n",
            " 2D)                                                             \n",
            "                                                                 \n",
            " dropout_2 (Dropout)         (None, 16, 323, 32)       0         \n",
            "                                                                 \n",
            " conv2d_3 (Conv2D)           (None, 16, 323, 32)       9248      \n",
            "                                                                 \n",
            " max_pooling2d_3 (MaxPooling  (None, 8, 161, 32)       0         \n",
            " 2D)                                                             \n",
            "                                                                 \n",
            " dropout_3 (Dropout)         (None, 8, 161, 32)        0         \n",
            "                                                                 \n",
            " conv2d_4 (Conv2D)           (None, 8, 161, 32)        9248      \n",
            "                                                                 \n",
            " max_pooling2d_4 (MaxPooling  (None, 4, 80, 32)        0         \n",
            " 2D)                                                             \n",
            "                                                                 \n",
            " conv2d_5 (Conv2D)           (None, 4, 80, 64)         18496     \n",
            "                                                                 \n",
            " max_pooling2d_5 (MaxPooling  (None, 1, 20, 64)        0         \n",
            " 2D)                                                             \n",
            "                                                                 \n",
            " dropout_4 (Dropout)         (None, 1, 20, 64)         0         \n",
            "                                                                 \n",
            " conv2d_6 (Conv2D)           (None, 1, 20, 64)         36928     \n",
            "                                                                 \n",
            " max_pooling2d_6 (MaxPooling  (None, 1, 20, 64)        0         \n",
            " 2D)                                                             \n",
            "                                                                 \n",
            " dropout_5 (Dropout)         (None, 1, 20, 64)         0         \n",
            "                                                                 \n",
            " flatten (Flatten)           (None, 1280)              0         \n",
            "                                                                 \n",
            " dense (Dense)               (None, 32)                40992     \n",
            "                                                                 \n",
            " dense_1 (Dense)             (None, 16)                528       \n",
            "                                                                 \n",
            " dense_2 (Dense)             (None, 10)                170       \n",
            "                                                                 \n",
            "=================================================================\n",
            "Total params: 143,962\n",
            "Trainable params: 143,962\n",
            "Non-trainable params: 0\n",
            "_________________________________________________________________\n"
          ]
        }
      ]
    },
    {
      "cell_type": "code",
      "source": [
        "\n",
        "model.fit(X_train,y_train,validation_split=0.2,batch_size=32,verbose=1,epochs=100)"
      ],
      "metadata": {
        "colab": {
          "base_uri": "https://localhost:8080/"
        },
        "id": "9sw2AY5usn9B",
        "outputId": "c8b6f2f3-bcbe-46c5-e11b-22af846a4b77"
      },
      "execution_count": 11,
      "outputs": [
        {
          "output_type": "stream",
          "name": "stdout",
          "text": [
            "Epoch 1/100\n",
            "17/17 [==============================] - 15s 595ms/step - loss: 2.2880 - accuracy: 0.1026 - val_loss: 2.2881 - val_accuracy: 0.1045\n",
            "Epoch 2/100\n",
            "17/17 [==============================] - 7s 426ms/step - loss: 2.2253 - accuracy: 0.1530 - val_loss: 2.2577 - val_accuracy: 0.1493\n",
            "Epoch 3/100\n",
            "17/17 [==============================] - 7s 426ms/step - loss: 2.1868 - accuracy: 0.1884 - val_loss: 2.2358 - val_accuracy: 0.1493\n",
            "Epoch 4/100\n",
            "17/17 [==============================] - 7s 427ms/step - loss: 2.1571 - accuracy: 0.2164 - val_loss: 2.2516 - val_accuracy: 0.1493\n",
            "Epoch 5/100\n",
            "17/17 [==============================] - 7s 428ms/step - loss: 2.1264 - accuracy: 0.2257 - val_loss: 2.2397 - val_accuracy: 0.2239\n",
            "Epoch 6/100\n",
            "17/17 [==============================] - 7s 430ms/step - loss: 2.0959 - accuracy: 0.2631 - val_loss: 2.2360 - val_accuracy: 0.2164\n",
            "Epoch 7/100\n",
            "17/17 [==============================] - 7s 431ms/step - loss: 2.0602 - accuracy: 0.2799 - val_loss: 2.1699 - val_accuracy: 0.2313\n",
            "Epoch 8/100\n",
            "17/17 [==============================] - 7s 433ms/step - loss: 1.9841 - accuracy: 0.2743 - val_loss: 2.1571 - val_accuracy: 0.2313\n",
            "Epoch 9/100\n",
            "17/17 [==============================] - 7s 434ms/step - loss: 1.9634 - accuracy: 0.2631 - val_loss: 2.2787 - val_accuracy: 0.1567\n",
            "Epoch 10/100\n",
            "17/17 [==============================] - 7s 432ms/step - loss: 1.8821 - accuracy: 0.2929 - val_loss: 2.0316 - val_accuracy: 0.2910\n",
            "Epoch 11/100\n",
            "17/17 [==============================] - 7s 431ms/step - loss: 1.7919 - accuracy: 0.3284 - val_loss: 2.0734 - val_accuracy: 0.2612\n",
            "Epoch 12/100\n",
            "17/17 [==============================] - 7s 430ms/step - loss: 1.7331 - accuracy: 0.3806 - val_loss: 2.0258 - val_accuracy: 0.2985\n",
            "Epoch 13/100\n",
            "17/17 [==============================] - 7s 431ms/step - loss: 1.6701 - accuracy: 0.4011 - val_loss: 2.0252 - val_accuracy: 0.2910\n",
            "Epoch 14/100\n",
            "17/17 [==============================] - 7s 430ms/step - loss: 1.6034 - accuracy: 0.4067 - val_loss: 1.9083 - val_accuracy: 0.3731\n",
            "Epoch 15/100\n",
            "17/17 [==============================] - 7s 429ms/step - loss: 1.5342 - accuracy: 0.4590 - val_loss: 1.8421 - val_accuracy: 0.4030\n",
            "Epoch 16/100\n",
            "17/17 [==============================] - 7s 429ms/step - loss: 1.4554 - accuracy: 0.4590 - val_loss: 2.0216 - val_accuracy: 0.3060\n",
            "Epoch 17/100\n",
            "17/17 [==============================] - 7s 430ms/step - loss: 1.4444 - accuracy: 0.5075 - val_loss: 1.7861 - val_accuracy: 0.3881\n",
            "Epoch 18/100\n",
            "17/17 [==============================] - 7s 430ms/step - loss: 1.4463 - accuracy: 0.4795 - val_loss: 1.9562 - val_accuracy: 0.3284\n",
            "Epoch 19/100\n",
            "17/17 [==============================] - 7s 430ms/step - loss: 1.4560 - accuracy: 0.4683 - val_loss: 1.7396 - val_accuracy: 0.4179\n",
            "Epoch 20/100\n",
            "17/17 [==============================] - 7s 430ms/step - loss: 1.3176 - accuracy: 0.5373 - val_loss: 1.7282 - val_accuracy: 0.4104\n",
            "Epoch 21/100\n",
            "17/17 [==============================] - 7s 430ms/step - loss: 1.2973 - accuracy: 0.5392 - val_loss: 1.8077 - val_accuracy: 0.3657\n",
            "Epoch 22/100\n",
            "17/17 [==============================] - 7s 432ms/step - loss: 1.2332 - accuracy: 0.5392 - val_loss: 1.6020 - val_accuracy: 0.4627\n",
            "Epoch 23/100\n",
            "17/17 [==============================] - 7s 431ms/step - loss: 1.1782 - accuracy: 0.5597 - val_loss: 1.6054 - val_accuracy: 0.4776\n",
            "Epoch 24/100\n",
            "17/17 [==============================] - 7s 430ms/step - loss: 1.1672 - accuracy: 0.5690 - val_loss: 1.7736 - val_accuracy: 0.4478\n",
            "Epoch 25/100\n",
            "17/17 [==============================] - 7s 431ms/step - loss: 1.1465 - accuracy: 0.5896 - val_loss: 1.6400 - val_accuracy: 0.4627\n",
            "Epoch 26/100\n",
            "17/17 [==============================] - 7s 431ms/step - loss: 1.0986 - accuracy: 0.5616 - val_loss: 1.5407 - val_accuracy: 0.4925\n",
            "Epoch 27/100\n",
            "17/17 [==============================] - 7s 431ms/step - loss: 1.0857 - accuracy: 0.5858 - val_loss: 1.4683 - val_accuracy: 0.4627\n",
            "Epoch 28/100\n",
            "17/17 [==============================] - 7s 430ms/step - loss: 1.1405 - accuracy: 0.6026 - val_loss: 1.5473 - val_accuracy: 0.4403\n",
            "Epoch 29/100\n",
            "17/17 [==============================] - 7s 431ms/step - loss: 1.1029 - accuracy: 0.5821 - val_loss: 1.4909 - val_accuracy: 0.4776\n",
            "Epoch 30/100\n",
            "17/17 [==============================] - 7s 431ms/step - loss: 1.0250 - accuracy: 0.6231 - val_loss: 1.5003 - val_accuracy: 0.5000\n",
            "Epoch 31/100\n",
            "17/17 [==============================] - 7s 431ms/step - loss: 0.9241 - accuracy: 0.6437 - val_loss: 1.5815 - val_accuracy: 0.4851\n",
            "Epoch 32/100\n",
            "17/17 [==============================] - 7s 430ms/step - loss: 0.9136 - accuracy: 0.6698 - val_loss: 1.4881 - val_accuracy: 0.5373\n",
            "Epoch 33/100\n",
            "17/17 [==============================] - 7s 431ms/step - loss: 0.9444 - accuracy: 0.6399 - val_loss: 1.4334 - val_accuracy: 0.5448\n",
            "Epoch 34/100\n",
            "17/17 [==============================] - 7s 431ms/step - loss: 0.9033 - accuracy: 0.6511 - val_loss: 1.4481 - val_accuracy: 0.5448\n",
            "Epoch 35/100\n",
            "17/17 [==============================] - 7s 430ms/step - loss: 0.8961 - accuracy: 0.6791 - val_loss: 1.4290 - val_accuracy: 0.5299\n",
            "Epoch 36/100\n",
            "17/17 [==============================] - 7s 432ms/step - loss: 0.8481 - accuracy: 0.6884 - val_loss: 1.2953 - val_accuracy: 0.5896\n",
            "Epoch 37/100\n",
            "17/17 [==============================] - 7s 432ms/step - loss: 0.8773 - accuracy: 0.6399 - val_loss: 1.5781 - val_accuracy: 0.5000\n",
            "Epoch 38/100\n",
            "17/17 [==============================] - 7s 431ms/step - loss: 0.9719 - accuracy: 0.6660 - val_loss: 1.6411 - val_accuracy: 0.4701\n",
            "Epoch 39/100\n",
            "17/17 [==============================] - 7s 431ms/step - loss: 0.9112 - accuracy: 0.6437 - val_loss: 1.3092 - val_accuracy: 0.5746\n",
            "Epoch 40/100\n",
            "17/17 [==============================] - 7s 431ms/step - loss: 0.8233 - accuracy: 0.6828 - val_loss: 1.4297 - val_accuracy: 0.5224\n",
            "Epoch 41/100\n",
            "17/17 [==============================] - 7s 432ms/step - loss: 0.7603 - accuracy: 0.7071 - val_loss: 1.3862 - val_accuracy: 0.6045\n",
            "Epoch 42/100\n",
            "17/17 [==============================] - 7s 433ms/step - loss: 0.7666 - accuracy: 0.7239 - val_loss: 1.3537 - val_accuracy: 0.5970\n",
            "Epoch 43/100\n",
            "17/17 [==============================] - 7s 431ms/step - loss: 0.7651 - accuracy: 0.7295 - val_loss: 1.4775 - val_accuracy: 0.5522\n",
            "Epoch 44/100\n",
            "17/17 [==============================] - 7s 432ms/step - loss: 0.6837 - accuracy: 0.7425 - val_loss: 1.2811 - val_accuracy: 0.6119\n",
            "Epoch 45/100\n",
            "17/17 [==============================] - 7s 432ms/step - loss: 0.6891 - accuracy: 0.7351 - val_loss: 1.3430 - val_accuracy: 0.6119\n",
            "Epoch 46/100\n",
            "17/17 [==============================] - 7s 431ms/step - loss: 0.7057 - accuracy: 0.7127 - val_loss: 1.4203 - val_accuracy: 0.5896\n",
            "Epoch 47/100\n",
            "17/17 [==============================] - 7s 430ms/step - loss: 0.6643 - accuracy: 0.7425 - val_loss: 1.3948 - val_accuracy: 0.5896\n",
            "Epoch 48/100\n",
            "17/17 [==============================] - 7s 431ms/step - loss: 0.6850 - accuracy: 0.7351 - val_loss: 1.3253 - val_accuracy: 0.6343\n",
            "Epoch 49/100\n",
            "17/17 [==============================] - 7s 433ms/step - loss: 0.7175 - accuracy: 0.7220 - val_loss: 1.4130 - val_accuracy: 0.5821\n",
            "Epoch 50/100\n",
            "17/17 [==============================] - 7s 431ms/step - loss: 0.6909 - accuracy: 0.7369 - val_loss: 1.2353 - val_accuracy: 0.6119\n",
            "Epoch 51/100\n",
            "17/17 [==============================] - 7s 431ms/step - loss: 0.6476 - accuracy: 0.7407 - val_loss: 1.2535 - val_accuracy: 0.6567\n",
            "Epoch 52/100\n",
            "17/17 [==============================] - 7s 431ms/step - loss: 0.6032 - accuracy: 0.7761 - val_loss: 1.2912 - val_accuracy: 0.6567\n",
            "Epoch 53/100\n",
            "17/17 [==============================] - 7s 431ms/step - loss: 0.5688 - accuracy: 0.7854 - val_loss: 1.2470 - val_accuracy: 0.6418\n",
            "Epoch 54/100\n",
            "17/17 [==============================] - 7s 431ms/step - loss: 0.6302 - accuracy: 0.7631 - val_loss: 1.4379 - val_accuracy: 0.6418\n",
            "Epoch 55/100\n",
            "17/17 [==============================] - 7s 431ms/step - loss: 0.6160 - accuracy: 0.7500 - val_loss: 1.3013 - val_accuracy: 0.6194\n",
            "Epoch 56/100\n",
            "17/17 [==============================] - 7s 431ms/step - loss: 0.5629 - accuracy: 0.7966 - val_loss: 1.3368 - val_accuracy: 0.5970\n",
            "Epoch 57/100\n",
            "17/17 [==============================] - 7s 431ms/step - loss: 0.5554 - accuracy: 0.7948 - val_loss: 1.3351 - val_accuracy: 0.6567\n",
            "Epoch 58/100\n",
            "17/17 [==============================] - 7s 431ms/step - loss: 0.5434 - accuracy: 0.7854 - val_loss: 1.3916 - val_accuracy: 0.5970\n",
            "Epoch 59/100\n",
            "17/17 [==============================] - 7s 431ms/step - loss: 0.5264 - accuracy: 0.7854 - val_loss: 1.3536 - val_accuracy: 0.6866\n",
            "Epoch 60/100\n",
            "17/17 [==============================] - 7s 433ms/step - loss: 0.5840 - accuracy: 0.7724 - val_loss: 1.4784 - val_accuracy: 0.6642\n",
            "Epoch 61/100\n",
            "17/17 [==============================] - 7s 431ms/step - loss: 0.5489 - accuracy: 0.7854 - val_loss: 1.3375 - val_accuracy: 0.6119\n",
            "Epoch 62/100\n",
            "17/17 [==============================] - 7s 432ms/step - loss: 0.4653 - accuracy: 0.8078 - val_loss: 1.3431 - val_accuracy: 0.6642\n",
            "Epoch 63/100\n",
            "17/17 [==============================] - 7s 431ms/step - loss: 0.4654 - accuracy: 0.8302 - val_loss: 1.4008 - val_accuracy: 0.6269\n",
            "Epoch 64/100\n",
            "17/17 [==============================] - 7s 432ms/step - loss: 0.4872 - accuracy: 0.8228 - val_loss: 1.5770 - val_accuracy: 0.6567\n",
            "Epoch 65/100\n",
            "17/17 [==============================] - 7s 430ms/step - loss: 0.6189 - accuracy: 0.7743 - val_loss: 1.2997 - val_accuracy: 0.6642\n",
            "Epoch 66/100\n",
            "17/17 [==============================] - 7s 431ms/step - loss: 0.5942 - accuracy: 0.7910 - val_loss: 1.5038 - val_accuracy: 0.6194\n",
            "Epoch 67/100\n",
            "17/17 [==============================] - 7s 431ms/step - loss: 0.5304 - accuracy: 0.8060 - val_loss: 1.4779 - val_accuracy: 0.6418\n",
            "Epoch 68/100\n",
            "17/17 [==============================] - 7s 431ms/step - loss: 0.4924 - accuracy: 0.8190 - val_loss: 1.3122 - val_accuracy: 0.6642\n",
            "Epoch 69/100\n",
            "17/17 [==============================] - 7s 432ms/step - loss: 0.5211 - accuracy: 0.8041 - val_loss: 1.3842 - val_accuracy: 0.6866\n",
            "Epoch 70/100\n",
            "17/17 [==============================] - 7s 431ms/step - loss: 0.5195 - accuracy: 0.8116 - val_loss: 1.4547 - val_accuracy: 0.6418\n",
            "Epoch 71/100\n",
            "17/17 [==============================] - 7s 432ms/step - loss: 0.4697 - accuracy: 0.8228 - val_loss: 1.3613 - val_accuracy: 0.6343\n",
            "Epoch 72/100\n",
            "17/17 [==============================] - 7s 431ms/step - loss: 0.4813 - accuracy: 0.8172 - val_loss: 1.3070 - val_accuracy: 0.6269\n",
            "Epoch 73/100\n",
            "17/17 [==============================] - 7s 430ms/step - loss: 0.5678 - accuracy: 0.8396 - val_loss: 1.4621 - val_accuracy: 0.6418\n",
            "Epoch 74/100\n",
            "17/17 [==============================] - 7s 431ms/step - loss: 0.5024 - accuracy: 0.7966 - val_loss: 1.1809 - val_accuracy: 0.6716\n",
            "Epoch 75/100\n",
            "17/17 [==============================] - 7s 431ms/step - loss: 0.4174 - accuracy: 0.8638 - val_loss: 1.2207 - val_accuracy: 0.6940\n",
            "Epoch 76/100\n",
            "17/17 [==============================] - 7s 430ms/step - loss: 0.3776 - accuracy: 0.8675 - val_loss: 1.1841 - val_accuracy: 0.7313\n",
            "Epoch 77/100\n",
            "17/17 [==============================] - 7s 431ms/step - loss: 0.4359 - accuracy: 0.8507 - val_loss: 1.4567 - val_accuracy: 0.7090\n",
            "Epoch 78/100\n",
            "17/17 [==============================] - 7s 431ms/step - loss: 0.4252 - accuracy: 0.8302 - val_loss: 1.4455 - val_accuracy: 0.6716\n",
            "Epoch 79/100\n",
            "17/17 [==============================] - 7s 431ms/step - loss: 0.4322 - accuracy: 0.8451 - val_loss: 1.4416 - val_accuracy: 0.7239\n",
            "Epoch 80/100\n",
            "17/17 [==============================] - 7s 431ms/step - loss: 0.4036 - accuracy: 0.8507 - val_loss: 1.1652 - val_accuracy: 0.6716\n",
            "Epoch 81/100\n",
            "17/17 [==============================] - 7s 431ms/step - loss: 0.3808 - accuracy: 0.8638 - val_loss: 1.6304 - val_accuracy: 0.6493\n",
            "Epoch 82/100\n",
            "17/17 [==============================] - 7s 432ms/step - loss: 0.4255 - accuracy: 0.8284 - val_loss: 1.4022 - val_accuracy: 0.6418\n",
            "Epoch 83/100\n",
            "17/17 [==============================] - 7s 431ms/step - loss: 0.3721 - accuracy: 0.8787 - val_loss: 1.5125 - val_accuracy: 0.7463\n",
            "Epoch 84/100\n",
            "17/17 [==============================] - 7s 432ms/step - loss: 0.4298 - accuracy: 0.8507 - val_loss: 1.3742 - val_accuracy: 0.7015\n",
            "Epoch 85/100\n",
            "17/17 [==============================] - 7s 430ms/step - loss: 0.4081 - accuracy: 0.8470 - val_loss: 1.5061 - val_accuracy: 0.6716\n",
            "Epoch 86/100\n",
            "17/17 [==============================] - 7s 431ms/step - loss: 0.4271 - accuracy: 0.8265 - val_loss: 1.3517 - val_accuracy: 0.7313\n",
            "Epoch 87/100\n",
            "17/17 [==============================] - 7s 430ms/step - loss: 0.4077 - accuracy: 0.8545 - val_loss: 1.3281 - val_accuracy: 0.6940\n",
            "Epoch 88/100\n",
            "17/17 [==============================] - 7s 431ms/step - loss: 0.3668 - accuracy: 0.8713 - val_loss: 1.2263 - val_accuracy: 0.6866\n",
            "Epoch 89/100\n",
            "17/17 [==============================] - 7s 430ms/step - loss: 0.3921 - accuracy: 0.8787 - val_loss: 1.4694 - val_accuracy: 0.7239\n",
            "Epoch 90/100\n",
            "17/17 [==============================] - 7s 430ms/step - loss: 0.4617 - accuracy: 0.8433 - val_loss: 1.6943 - val_accuracy: 0.6716\n",
            "Epoch 91/100\n",
            "17/17 [==============================] - 7s 430ms/step - loss: 0.3814 - accuracy: 0.8601 - val_loss: 1.4283 - val_accuracy: 0.6716\n",
            "Epoch 92/100\n",
            "17/17 [==============================] - 7s 429ms/step - loss: 0.3165 - accuracy: 0.8918 - val_loss: 1.6072 - val_accuracy: 0.7239\n",
            "Epoch 93/100\n",
            "17/17 [==============================] - 7s 432ms/step - loss: 0.4698 - accuracy: 0.8470 - val_loss: 1.2027 - val_accuracy: 0.7313\n",
            "Epoch 94/100\n",
            "17/17 [==============================] - 7s 431ms/step - loss: 0.3630 - accuracy: 0.8657 - val_loss: 1.2525 - val_accuracy: 0.6866\n",
            "Epoch 95/100\n",
            "17/17 [==============================] - 7s 432ms/step - loss: 0.2980 - accuracy: 0.8843 - val_loss: 1.3283 - val_accuracy: 0.7463\n",
            "Epoch 96/100\n",
            "17/17 [==============================] - 7s 431ms/step - loss: 0.2900 - accuracy: 0.8955 - val_loss: 1.2805 - val_accuracy: 0.7463\n",
            "Epoch 97/100\n",
            "17/17 [==============================] - 7s 431ms/step - loss: 0.3656 - accuracy: 0.8843 - val_loss: 1.1499 - val_accuracy: 0.7164\n",
            "Epoch 98/100\n",
            "17/17 [==============================] - 7s 430ms/step - loss: 0.3376 - accuracy: 0.8974 - val_loss: 1.2060 - val_accuracy: 0.7313\n",
            "Epoch 99/100\n",
            "17/17 [==============================] - 7s 431ms/step - loss: 0.2752 - accuracy: 0.8899 - val_loss: 1.3585 - val_accuracy: 0.7761\n",
            "Epoch 100/100\n",
            "17/17 [==============================] - 7s 429ms/step - loss: 0.3451 - accuracy: 0.8918 - val_loss: 1.2280 - val_accuracy: 0.7388\n"
          ]
        },
        {
          "output_type": "execute_result",
          "data": {
            "text/plain": [
              "<keras.callbacks.History at 0x7f6a02411e50>"
            ]
          },
          "metadata": {},
          "execution_count": 11
        }
      ]
    },
    {
      "cell_type": "code",
      "source": [
        "model = get_conv_model()  # Get model (Sequential, Functional Model, or Model subclass)\n",
        "model.save('/content/drive/MyDrive/Audio_Classification-MLSP')"
      ],
      "metadata": {
        "colab": {
          "base_uri": "https://localhost:8080/"
        },
        "id": "hoegk9upAw9T",
        "outputId": "5140579c-715d-413f-bf3d-09fd8a3ef6c7"
      },
      "execution_count": 13,
      "outputs": [
        {
          "output_type": "stream",
          "name": "stdout",
          "text": [
            "Model: \"sequential_1\"\n",
            "_________________________________________________________________\n",
            " Layer (type)                Output Shape              Param #   \n",
            "=================================================================\n",
            " conv2d_7 (Conv2D)           (None, 128, 2584, 64)     640       \n",
            "                                                                 \n",
            " max_pooling2d_7 (MaxPooling  (None, 64, 1292, 64)     0         \n",
            " 2D)                                                             \n",
            "                                                                 \n",
            " dropout_6 (Dropout)         (None, 64, 1292, 64)      0         \n",
            "                                                                 \n",
            " conv2d_8 (Conv2D)           (None, 64, 1292, 32)      18464     \n",
            "                                                                 \n",
            " max_pooling2d_8 (MaxPooling  (None, 32, 646, 32)      0         \n",
            " 2D)                                                             \n",
            "                                                                 \n",
            " dropout_7 (Dropout)         (None, 32, 646, 32)       0         \n",
            "                                                                 \n",
            " conv2d_9 (Conv2D)           (None, 32, 646, 32)       9248      \n",
            "                                                                 \n",
            " max_pooling2d_9 (MaxPooling  (None, 16, 323, 32)      0         \n",
            " 2D)                                                             \n",
            "                                                                 \n",
            " dropout_8 (Dropout)         (None, 16, 323, 32)       0         \n",
            "                                                                 \n",
            " conv2d_10 (Conv2D)          (None, 16, 323, 32)       9248      \n",
            "                                                                 \n",
            " max_pooling2d_10 (MaxPoolin  (None, 8, 161, 32)       0         \n",
            " g2D)                                                            \n",
            "                                                                 \n",
            " dropout_9 (Dropout)         (None, 8, 161, 32)        0         \n",
            "                                                                 \n",
            " conv2d_11 (Conv2D)          (None, 8, 161, 32)        9248      \n",
            "                                                                 \n",
            " max_pooling2d_11 (MaxPoolin  (None, 4, 80, 32)        0         \n",
            " g2D)                                                            \n",
            "                                                                 \n",
            " conv2d_12 (Conv2D)          (None, 4, 80, 64)         18496     \n",
            "                                                                 \n",
            " max_pooling2d_12 (MaxPoolin  (None, 1, 20, 64)        0         \n",
            " g2D)                                                            \n",
            "                                                                 \n",
            " dropout_10 (Dropout)        (None, 1, 20, 64)         0         \n",
            "                                                                 \n",
            " conv2d_13 (Conv2D)          (None, 1, 20, 64)         36928     \n",
            "                                                                 \n",
            " max_pooling2d_13 (MaxPoolin  (None, 1, 20, 64)        0         \n",
            " g2D)                                                            \n",
            "                                                                 \n",
            " dropout_11 (Dropout)        (None, 1, 20, 64)         0         \n",
            "                                                                 \n",
            " flatten_1 (Flatten)         (None, 1280)              0         \n",
            "                                                                 \n",
            " dense_3 (Dense)             (None, 32)                40992     \n",
            "                                                                 \n",
            " dense_4 (Dense)             (None, 16)                528       \n",
            "                                                                 \n",
            " dense_5 (Dense)             (None, 10)                170       \n",
            "                                                                 \n",
            "=================================================================\n",
            "Total params: 143,962\n",
            "Trainable params: 143,962\n",
            "Non-trainable params: 0\n",
            "_________________________________________________________________\n"
          ]
        }
      ]
    },
    {
      "cell_type": "code",
      "source": [
        "# Evaluate the model with test data\n",
        "#X_test=feature_extraction(X_test)\n",
        "loss, accuracy = model.evaluate(X_test, y_test, verbose=1)\n",
        "print('Test loss:', loss)\n",
        "print('Test accuracy:', accuracy)"
      ],
      "metadata": {
        "colab": {
          "base_uri": "https://localhost:8080/"
        },
        "id": "Bf-5qWS_tjfr",
        "outputId": "d14e96fb-c6ad-48d1-b973-a6d2845b23d2"
      },
      "execution_count": 12,
      "outputs": [
        {
          "output_type": "stream",
          "name": "stdout",
          "text": [
            "11/11 [==============================] - 2s 202ms/step - loss: 0.9579 - accuracy: 0.8000\n",
            "Test loss: 0.9578734636306763\n",
            "Test accuracy: 0.800000011920929\n"
          ]
        }
      ]
    },
    {
      "cell_type": "code",
      "source": [
        "model_json = model.to_json()\n",
        "with open(\"/content/drive/MyDrive/Audio_Classification-MLSP/model.json\", \"w\") as json_file:\n",
        "    json_file.write(model_json)\n",
        "# serialize weights to HDF5\n",
        "model.save_weights(\"model.h5\")\n",
        "print(\"Saved model to disk\")\n",
        " "
      ],
      "metadata": {
        "colab": {
          "base_uri": "https://localhost:8080/"
        },
        "id": "ZqzgSy9CBtUL",
        "outputId": "98863743-1d88-4ab0-94b2-860c2ec57b02"
      },
      "execution_count": 16,
      "outputs": [
        {
          "output_type": "stream",
          "name": "stdout",
          "text": [
            "Saved model to disk\n"
          ]
        }
      ]
    },
    {
      "cell_type": "code",
      "source": [
        "weights=model.get_weights()\n",
        "len(weights)"
      ],
      "metadata": {
        "colab": {
          "base_uri": "https://localhost:8080/"
        },
        "id": "UaH7oVYRC8Nb",
        "outputId": "3663f0da-3ba9-4724-8b13-d5d4af1385db"
      },
      "execution_count": 27,
      "outputs": [
        {
          "output_type": "execute_result",
          "data": {
            "text/plain": [
              "20"
            ]
          },
          "metadata": {},
          "execution_count": 27
        }
      ]
    },
    {
      "cell_type": "code",
      "source": [
        "for layer in model.layers:\n",
        "    weights = layer.get_weights()"
      ],
      "metadata": {
        "id": "yinNifEFB6QD"
      },
      "execution_count": 28,
      "outputs": []
    },
    {
      "cell_type": "code",
      "source": [
        "model.save_weights('/content/drive/MyDrive/Audio_Classification-MLSP/weightscnn80')"
      ],
      "metadata": {
        "id": "pEnKrGucDp1B"
      },
      "execution_count": 31,
      "outputs": []
    },
    {
      "cell_type": "code",
      "source": [
        "cnn=model.get_weights()"
      ],
      "metadata": {
        "id": "MmQeCYl8D3wU"
      },
      "execution_count": 33,
      "outputs": []
    },
    {
      "cell_type": "code",
      "source": [],
      "metadata": {
        "id": "5z7YSa0mEO_2"
      },
      "execution_count": null,
      "outputs": []
    }
  ],
  "metadata": {
    "colab": {
      "provenance": [],
      "collapsed_sections": []
    },
    "kernelspec": {
      "display_name": "Python 3",
      "name": "python3"
    },
    "language_info": {
      "name": "python"
    },
    "accelerator": "GPU"
  },
  "nbformat": 4,
  "nbformat_minor": 0
}